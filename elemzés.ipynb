{
 "cells": [
  {
   "cell_type": "code",
   "execution_count": 569,
   "metadata": {},
   "outputs": [],
   "source": [
    "import os\n",
    "import numpy as np\n",
    "import pandas as pd\n",
    "import networkx as nx\n",
    "from pyvis.network import Network\n",
    "import matplotlib\n",
    "from matplotlib import pyplot as plt"
   ]
  },
  {
   "cell_type": "markdown",
   "metadata": {},
   "source": [
    "### import and clean data"
   ]
  },
  {
   "cell_type": "code",
   "execution_count": 94,
   "metadata": {},
   "outputs": [],
   "source": [
    "col_dict = {\n",
    "    \"Kikkel volt interakciód? (Itt ténylegesen megszámolod hogy kikkel interaktáltál)\": \"Interakciók\",\n",
    "    \"Neved\": \"Név\",\n",
    "    \"Nem (1-férfi,0-nő)\": \"Nem\",\n",
    "    \"Beleegyezem, hogy további adataimat az adatbázis készítői átmásolják korábbi lekérdezésekből? (*lásd: szint, szobaszám, nem, szak)\": \"GDPR\",\n",
    "    \"A lekérdezéstől számított egy héten belül laktál a kommunában? (KGY előtt)\": \"Kommuna\",\n",
    "    \"A kérdőív kitöltését megelőző egy héten (KGY előtt) otthon, a családi bázison tartózkodtál?\": \"Otthon lakás\",\n",
    "    \"Hány kollégistával interaktáltál a kérdőív kitöltése előtti egy hétben (KGY előtti)? (csak úgy érzésre, kicsit gondolkozol és egy magadnak meggyőző szám)\": \"Kontaktok becsült száma\",\n",
    "    \"Mennyire volt a koronavírus a központi téma?\": \"Korona-téma\",\n",
    "    \"Mennyit beszélgettetek a koliról?\": \"Koli-téma\",\n",
    "    \"Beszéltetek arról, ki hogyan érzi magát? (lásd: megkérdezted, hogy van)\": \"Hogylét-téma\",\n",
    "    \"Milyen eszközön / platformon interaktáltatok?\": \"Platform\",\n",
    "}"
   ]
  },
  {
   "cell_type": "code",
   "execution_count": 332,
   "metadata": {
    "scrolled": true
   },
   "outputs": [],
   "source": [
    "data = pd.read_excel(\"poll.xlsx\").pipe(\n",
    "    lambda df: df.drop(\n",
    "        [\n",
    "            \"Időbélyeg\",\n",
    "            \"Mi volt a fő kommunikációs forma?\",\n",
    "            \"Darab\",\n",
    "            \"Megegyezik\",\n",
    "            \"Különbség\",\n",
    "            \"Arány\",\n",
    "            \"Kikkel volt interakciód? (Itt ténylegesen megszámolod hogy kikkel interaktáltál).1\",\n",
    "        ]\n",
    "        + [c for c in df.columns if \"Unnamed\" in c],\n",
    "        axis=1,\n",
    "    ).rename(columns=col_dict,)\n",
    ").fillna(\"\")"
   ]
  },
  {
   "cell_type": "code",
   "execution_count": 333,
   "metadata": {},
   "outputs": [],
   "source": [
    "data = data.drop(\"Interakciók\", axis=1).merge(\n",
    "    data[\"Interakciók\"]\n",
    "    .apply(lambda l: pd.Series(l.split(\", \")))\n",
    "    .pipe(lambda df: df.rename(columns={c: \"Kontakt_{}\".format(c) for c in df.columns}))\n",
    "    .fillna(\"\"),\n",
    "    how=\"outer\",\n",
    "    left_index=True,\n",
    "    right_index=True,\n",
    ")"
   ]
  },
  {
   "cell_type": "code",
   "execution_count": 334,
   "metadata": {},
   "outputs": [],
   "source": [
    "names = (\n",
    "    data[[\"Név\"] + [c for c in data.columns if \"Kontakt\" in c and \"szám\" not in c]]\n",
    "    .unstack()\n",
    "    .loc[lambda s: s != \"\"]\n",
    "    .sort_values()\n",
    "    .unique()\n",
    ")"
   ]
  },
  {
   "cell_type": "markdown",
   "metadata": {},
   "source": [
    "### encrypt names"
   ]
  },
  {
   "cell_type": "code",
   "execution_count": 335,
   "metadata": {
    "scrolled": false
   },
   "outputs": [],
   "source": [
    "IDs = {n: int(np.random.rand() * 10 ** 6) for n in names}"
   ]
  },
  {
   "cell_type": "code",
   "execution_count": 336,
   "metadata": {},
   "outputs": [
    {
     "data": {
      "text/plain": [
       "93"
      ]
     },
     "execution_count": 336,
     "metadata": {},
     "output_type": "execute_result"
    }
   ],
   "source": [
    "len(names)"
   ]
  },
  {
   "cell_type": "code",
   "execution_count": 337,
   "metadata": {},
   "outputs": [
    {
     "data": {
      "text/plain": [
       "(93,)"
      ]
     },
     "execution_count": 337,
     "metadata": {},
     "output_type": "execute_result"
    }
   ],
   "source": [
    "np.unique(list(IDs.values())).shape"
   ]
  },
  {
   "cell_type": "code",
   "execution_count": 350,
   "metadata": {},
   "outputs": [],
   "source": [
    "encrypted = data.replace(IDs).rename(columns={\"Név\": \"ID\"})"
   ]
  },
  {
   "cell_type": "markdown",
   "metadata": {},
   "source": [
    "### build network"
   ]
  },
  {
   "cell_type": "code",
   "execution_count": 340,
   "metadata": {},
   "outputs": [],
   "source": [
    "G = nx.DiGraph()"
   ]
  },
  {
   "cell_type": "code",
   "execution_count": 341,
   "metadata": {},
   "outputs": [],
   "source": [
    "G.add_nodes_from(IDs.values())"
   ]
  },
  {
   "cell_type": "code",
   "execution_count": 342,
   "metadata": {},
   "outputs": [],
   "source": [
    "edges = np.concatenate(\n",
    "    encrypted.apply(\n",
    "        lambda r: [\n",
    "            [r[\"Név\"], r[c]]\n",
    "            for c in encrypted.columns\n",
    "            if (\"Kontakt\" in c) and (\"szám\" not in c) and (r[c] != \"\")\n",
    "        ],\n",
    "        axis=1,\n",
    "    )\n",
    ")"
   ]
  },
  {
   "cell_type": "code",
   "execution_count": 343,
   "metadata": {},
   "outputs": [],
   "source": [
    "G.add_edges_from(edges)"
   ]
  },
  {
   "cell_type": "code",
   "execution_count": 344,
   "metadata": {},
   "outputs": [
    {
     "name": "stdout",
     "output_type": "stream",
     "text": [
      "Name: \n",
      "Type: DiGraph\n",
      "Number of nodes: 93\n",
      "Number of edges: 1258\n",
      "Average in degree:  13.5269\n",
      "Average out degree:  13.5269\n"
     ]
    }
   ],
   "source": [
    "print(nx.info(G))"
   ]
  },
  {
   "cell_type": "markdown",
   "metadata": {},
   "source": [
    "### further analysis"
   ]
  },
  {
   "cell_type": "code",
   "execution_count": 405,
   "metadata": {},
   "outputs": [],
   "source": [
    "edges_df = pd.DataFrame(edges).rename(columns={0: \"from\", 1: \"to\"})"
   ]
  },
  {
   "cell_type": "code",
   "execution_count": 443,
   "metadata": {},
   "outputs": [],
   "source": [
    "topics = {\"Korona-téma\": \"#4a235a\", \"Koli-téma\": \"#87e4a3\", \"Hogylét-téma\": \"#f0ad4e\"}"
   ]
  },
  {
   "cell_type": "code",
   "execution_count": 409,
   "metadata": {},
   "outputs": [],
   "source": [
    "edges_df = (\n",
    "    edges_df.merge(\n",
    "        encrypted[[\"ID\"] + list(topics.keys())],\n",
    "        how=\"left\",\n",
    "        left_on=\"from\",\n",
    "        right_on=\"ID\",\n",
    "    )\n",
    "    .rename(columns={c: c.replace(\"-téma\", \"_from\") for c in topics.keys()})\n",
    "    .drop(\"ID\", axis=1)\n",
    "    .merge(\n",
    "        encrypted[[\"ID\"] + list(topics.keys())], how=\"left\", left_on=\"to\", right_on=\"ID\"\n",
    "    )\n",
    "    .rename(columns={c: c.replace(\"-téma\", \"_to\") for c in topics.keys()})\n",
    "    .drop(\"ID\", axis=1)\n",
    "    .reset_index(drop=True)\n",
    ")"
   ]
  },
  {
   "cell_type": "code",
   "execution_count": 412,
   "metadata": {},
   "outputs": [],
   "source": [
    "def topic_ranker(row):\n",
    "\n",
    "    t = list(topics.keys())\n",
    "\n",
    "    return t[\n",
    "        np.argmax(\n",
    "            [\n",
    "                np.nanmean([row[c.replace(\"-téma\", s)] for s in [\"_from\", \"_to\"]])\n",
    "                for c in t\n",
    "            ]\n",
    "        )\n",
    "    ]"
   ]
  },
  {
   "cell_type": "code",
   "execution_count": 419,
   "metadata": {},
   "outputs": [],
   "source": [
    "edges_df[\"Domináns téma\"] = edges_df.apply(topic_ranker, axis=1).values"
   ]
  },
  {
   "cell_type": "code",
   "execution_count": 567,
   "metadata": {},
   "outputs": [],
   "source": [
    "edges_df.to_excel(\"edges.xlsx\")"
   ]
  },
  {
   "cell_type": "code",
   "execution_count": 421,
   "metadata": {},
   "outputs": [
    {
     "data": {
      "text/plain": [
       "Hogylét-téma    821\n",
       "Koli-téma       383\n",
       "Korona-téma      54\n",
       "Name: Domináns téma, dtype: int64"
      ]
     },
     "execution_count": 421,
     "metadata": {},
     "output_type": "execute_result"
    }
   ],
   "source": [
    "edges_df[\"Domináns téma\"].value_counts()"
   ]
  },
  {
   "cell_type": "code",
   "execution_count": 558,
   "metadata": {},
   "outputs": [],
   "source": [
    "matplotlib.rcParams['figure.figsize'] = [10, 8]"
   ]
  },
  {
   "cell_type": "code",
   "execution_count": 508,
   "metadata": {},
   "outputs": [],
   "source": [
    "encrypted[\"in_degree\"] = encrypted[\"ID\"].apply(lambda n: G.in_degree(n))\n",
    "encrypted[\"out_degree\"] = encrypted[\"ID\"].apply(lambda n: G.out_degree(n))"
   ]
  },
  {
   "cell_type": "code",
   "execution_count": 568,
   "metadata": {},
   "outputs": [],
   "source": [
    "encrypted.to_excel(\"encrypted.xlsx\")"
   ]
  },
  {
   "cell_type": "code",
   "execution_count": 560,
   "metadata": {},
   "outputs": [
    {
     "data": {
      "text/plain": [
       "(0, 35)"
      ]
     },
     "execution_count": 560,
     "metadata": {},
     "output_type": "execute_result"
    },
    {
     "data": {
      "image/png": "[encoded data removed]",
      "text/plain": [
       "<Figure size 720x576 with 1 Axes>"
      ]
     },
     "metadata": {
      "needs_background": "light"
     },
     "output_type": "display_data"
    }
   ],
   "source": [
    "plt.scatter(encrypted[\"out_degree\"], encrypted[\"in_degree\"], c=\"black\")\n",
    "\n",
    "plt.xlim(0, encrypted[\"out_degree\"].max())\n",
    "plt.ylim(0, encrypted[\"in_degree\"].max())"
   ]
  },
  {
   "cell_type": "code",
   "execution_count": 546,
   "metadata": {},
   "outputs": [],
   "source": [
    "x_out = np.linspace(0, encrypted[\"out_degree\"].max(), 10)\n",
    "x_in = np.linspace(0, encrypted[\"in_degree\"].max(), 10)"
   ]
  },
  {
   "cell_type": "code",
   "execution_count": 561,
   "metadata": {
    "scrolled": false
   },
   "outputs": [
    {
     "data": {
      "text/plain": [
       "Text(0.5, 1.0, 'Fokszámeloszlás a kapcsolati hálózatban')"
      ]
     },
     "execution_count": 561,
     "metadata": {},
     "output_type": "execute_result"
    },
    {
     "data": {
      "image/png": "[encoded data removed]",
      "text/plain": [
       "<Figure size 720x576 with 1 Axes>"
      ]
     },
     "metadata": {
      "needs_background": "light"
     },
     "output_type": "display_data"
    }
   ],
   "source": [
    "plt.plot(\n",
    "    x_out[1:],\n",
    "    pd.cut(encrypted[\"out_degree\"], bins=x_out)\n",
    "    .value_counts(normalize=True)\n",
    "    .sort_index(),\n",
    "    c=\"orange\",\n",
    "    label=\"Kimenő élek\"\n",
    ")\n",
    "plt.plot(\n",
    "    x_in[1:],\n",
    "    pd.cut(encrypted[\"in_degree\"], bins=x_in)\n",
    "    .value_counts(normalize=True)\n",
    "    .sort_index(),\n",
    "    c=\"black\",\n",
    "    label=\"Bejövő élek\"\n",
    ")\n",
    "\n",
    "plt.xlim(0, max(encrypted[\"out_degree\"].max(), (encrypted[\"in_degree\"].max())))\n",
    "plt.xlabel(\"Élek száma\")\n",
    "plt.ylabel(\"Relatív gyakoriság\")\n",
    "plt.legend()\n",
    "plt.title(\"Fokszámeloszlás a kapcsolati hálózatban\")"
   ]
  },
  {
   "cell_type": "markdown",
   "metadata": {},
   "source": [
    "### visualization"
   ]
  },
  {
   "cell_type": "code",
   "execution_count": 500,
   "metadata": {},
   "outputs": [],
   "source": [
    "pyvis_network = Network(\n",
    "    notebook=True,\n",
    "    directed=True,\n",
    "    height=\"750px\",\n",
    "    width=\"100%\",\n",
    "    bgcolor=\"white\",\n",
    ")"
   ]
  },
  {
   "cell_type": "code",
   "execution_count": 501,
   "metadata": {},
   "outputs": [],
   "source": [
    "for node in G.nodes():\n",
    "    mean_deg = (G.in_degree(node) + G.out_degree(node)) / 2\n",
    "    pyvis_network.add_node(\n",
    "        str(node),\n",
    "        mass=mean_deg * 5,\n",
    "        size=(mean_deg + 1) * 2,\n",
    "        color=\"#222222\",\n",
    "    )"
   ]
  },
  {
   "cell_type": "code",
   "execution_count": 502,
   "metadata": {},
   "outputs": [],
   "source": [
    "for i, row in edges_df.iterrows():\n",
    "    pyvis_network.add_edge(\n",
    "        str(row[\"from\"]), str(row[\"to\"]), color=topics[row[\"Domináns téma\"]], width=5\n",
    "    )"
   ]
  },
  {
   "cell_type": "markdown",
   "metadata": {},
   "source": [
    "[hex color codes](https://www.color-hex.com/color-palettes/)"
   ]
  },
  {
   "cell_type": "code",
   "execution_count": 570,
   "metadata": {},
   "outputs": [],
   "source": [
    "os.makedirs(\"docs\", exist_ok=True)"
   ]
  },
  {
   "cell_type": "code",
   "execution_count": 571,
   "metadata": {},
   "outputs": [
    {
     "data": {
      "text/html": [
       "\n",
       "        <iframe\n",
       "            width=\"100%\"\n",
       "            height=\"750px\"\n",
       "            src=\"docs/index.html\"\n",
       "            frameborder=\"0\"\n",
       "            allowfullscreen\n",
       "        ></iframe>\n",
       "        "
      ],
      "text/plain": [
       "<IPython.lib.display.IFrame at 0x7f80784c8d68>"
      ]
     },
     "execution_count": 571,
     "metadata": {},
     "output_type": "execute_result"
    }
   ],
   "source": [
    "pyvis_network.show('docs/index.html')"
   ]
  },
  {
   "cell_type": "code",
   "execution_count": null,
   "metadata": {},
   "outputs": [],
   "source": []
  }
 ],
 "metadata": {
  "kernelspec": {
   "display_name": "Python 3",
   "language": "python",
   "name": "python3"
  },
  "language_info": {
   "codemirror_mode": {
    "name": "ipython",
    "version": 3
   },
   "file_extension": ".py",
   "mimetype": "text/x-python",
   "name": "python",
   "nbconvert_exporter": "python",
   "pygments_lexer": "ipython3",
   "version": "3.7.3"
  }
 },
 "nbformat": 4,
 "nbformat_minor": 2
}
